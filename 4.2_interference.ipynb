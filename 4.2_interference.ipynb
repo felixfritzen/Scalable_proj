{
 "cells": [
  {
   "cell_type": "markdown",
   "id": "4bb0615b-79c1-4df1-8bb7-7e7fa966cec6",
   "metadata": {},
   "source": [
    "Huggingface part, put this in app.py in filed pulled from huggingface by\n",
    "\n",
    " When prompted for a password, use an access token with write permissions.\n",
    "Generate one from your settings: https://huggingface.co/settings/tokens\n",
    "git clone https://huggingface.co/spaces/felixfritzen/project\n",
    "Modify the files locally, then commit and push:\n",
    "\n",
    "\n",
    " git commit -am \"Update space\"\n",
    " \n",
    " git push"
   ]
  },
  {
   "cell_type": "code",
   "execution_count": 29,
   "id": "a84ae39d-18a9-4d3f-8612-fbfd3ec49e6e",
   "metadata": {
    "tags": []
   },
   "outputs": [],
   "source": [
    "import pickle\n",
    "import hopsworks\n",
    "import numpy as np\n",
    "from sentence_transformers import SentenceTransformer\n",
    "from sklearn.metrics.pairwise import cosine_similarity\n",
    "import gradio as gr\n",
    "\n",
    "project = hopsworks.login(api_key_value=\"wOWQmzzHeITT5wlJ.FkOButuQ3XpDXSUO1LnTuaNfD7SPWolfF1hateoistsLFFsBF7upULn5z6qKPOIB\")\n",
    "fs = project.get_feature_store() \n",
    "mr = project.get_model_registry()\n",
    "\n",
    "model = mr.get_model(\"KMeans_Model\", version=1)\n",
    "model_dir = model.download()\n",
    "print(f\"Model downloaded to: {model_dir}\")\n",
    "with open(f\"{model_dir}/kmeans_model.pkl\", \"rb\") as f:\n",
    "    kmeans_model = pickle.load(f)\n",
    "\n",
    "text_model = SentenceTransformer('all-MiniLM-L6-v2')\n",
    "\n",
    "#encoded_headlines = model.encode(headline_df['title'].to_list())\n",
    "#loaded from hopsworks!\n",
    "fg_vectors = fs.get_feature_group(\n",
    "    name='high_dimensional_vectors', \n",
    "    version=2,\n",
    ")\n",
    "retrieved_data = fg_vectors.read()\n",
    "vectors = retrieved_data[[f\"dim_{i}\" for i in range(384)]].to_numpy()\n",
    "headlines = retrieved_data['headlines']\n",
    "print(vectors.shape, headlines.shape)\n",
    "\n",
    "def df_between_dates(df, start_date, end_date):\n",
    "    return df[(df['pubdate'] >= start_date) & (df['pubdate'] <= end_date)]\n",
    "\n",
    "def get_most_similar_headlines(query_embedding, embeddings, headlines, top_n=5):\n",
    "    print('compute similarities')\n",
    "    similarities = cosine_similarity(query_embedding, embeddings)[0]\n",
    "    top_indices = np.argsort(-similarities)[:top_n]\n",
    "    return [(headlines[i], similarities[i]) for i in top_indices]\n",
    "\n",
    "def compare(encoded_headlines, headlines, query, kmeans_model, text_model):\n",
    "    encoding = text_model.encode([query])\n",
    "    most_similar = get_most_similar_headlines(encoding, encoded_headlines, headlines, top_n=5)\n",
    "    cluster = kmeans_model.predict(encoding)\n",
    "    print(f\"Query: {query}\")\n",
    "    print()\n",
    "    outp = \"\"\n",
    "    outp += str(f\"Cluster: {cluster[0]}\")\n",
    "    outp += \"\\nMost Similar Headlines:\"\n",
    "    \n",
    "    for i, (headline, similarity) in enumerate(most_similar, 1):\n",
    "        outp +=f\"\\n{i}. {headline} (Similarity: {similarity:.4f})\"\n",
    "    return str(outp)\n",
    "        \n",
    "def apply_kmean(prompt):\n",
    "    return compare(vectors, headlines, prompt, kmeans_model, text_model)\n",
    "\n",
    "with gr.Blocks() as interface:\n",
    "    gr.Markdown(\"# [Clustering page](https://felixfritzen.github.io/Scalable_proj/)\")\n",
    "    text_input = gr.Textbox(label=\"Enter your headline:\")\n",
    "    text_output = gr.Textbox(label=\"Most simmilar headlines:\")\n",
    "    gr.Button(\"Predict headlines\").click(apply_kmean, inputs=text_input, outputs=text_output)\n",
    "\n",
    "if __name__ == \"__main__\":\n",
    "    interface.launch(share=True)"
   ]
  }
 ],
 "metadata": {
  "environment": {
   "kernel": "conda-base-py",
   "name": "workbench-notebooks.m126",
   "type": "gcloud",
   "uri": "us-docker.pkg.dev/deeplearning-platform-release/gcr.io/workbench-notebooks:m126"
  },
  "kernelspec": {
   "display_name": "Python 3 (ipykernel) (Local)",
   "language": "python",
   "name": "conda-base-py"
  },
  "language_info": {
   "codemirror_mode": {
    "name": "ipython",
    "version": 3
   },
   "file_extension": ".py",
   "mimetype": "text/x-python",
   "name": "python",
   "nbconvert_exporter": "python",
   "pygments_lexer": "ipython3",
   "version": "3.10.15"
  }
 },
 "nbformat": 4,
 "nbformat_minor": 5
}
