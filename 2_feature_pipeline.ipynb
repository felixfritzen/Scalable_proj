{
 "cells": [
  {
   "cell_type": "code",
   "execution_count": 2,
   "id": "1f5e6231-a2ce-4f2a-921a-6c7bc3ec84e1",
   "metadata": {
    "tags": []
   },
   "outputs": [],
   "source": [
    "!pip install -U hopsworks --quiet"
   ]
  },
  {
   "cell_type": "code",
   "execution_count": 9,
   "id": "a8979ebe-87f2-427b-a6c9-24e31dcf1c82",
   "metadata": {
    "tags": []
   },
   "outputs": [],
   "source": [
    "import requests\n",
    "import pandas as pd\n",
    "from datetime import datetime"
   ]
  },
  {
   "cell_type": "code",
   "execution_count": 10,
   "id": "065eba3d-b4b7-4e1f-9e11-4e7de18a6f25",
   "metadata": {
    "tags": []
   },
   "outputs": [
    {
     "name": "stdout",
     "output_type": "stream",
     "text": [
      "     pubdate                                              title\n",
      "0 2024-12-02  Joe Biden issues 'full and unconditional' pard...\n",
      "1 2024-12-02                 Why are doctors wary of wearables?\n",
      "2 2024-12-02  Analysis: Biden’s pardon for son shows preside...\n",
      "3 2024-12-02  Georgia's PM hits back as protests and resigna...\n",
      "4 2024-12-02    Dozens killed in crush at Guinea football match\n",
      "5 2024-12-02  Bowen: Syria's rebel offensive is astonishing ...\n",
      "6 2024-12-02  Trump threatens 100% tariff on Brics nations i...\n"
     ]
    }
   ],
   "source": [
    "def get_headlines():\n",
    "    response = requests.get('https://bbc-api.vercel.app/latest?lang=english')\n",
    "    news_data = response.json()\n",
    "    title_set = set()\n",
    "    for article in news_data['Latest']:\n",
    "        title_set.add(article['title'])\n",
    "    return list(title_set)\n",
    "\n",
    "def df_time_headlines(headlines_today):\n",
    "    df = pd.DataFrame(headlines_today, columns=[\"title\"])\n",
    "    df[\"pubdate\"] = pd.to_datetime(datetime.today().strftime('%Y-%m-%d'))\n",
    "    df = df[[\"pubdate\", \"title\"]]\n",
    "    return df\n",
    "\n",
    "headlines_today = get_headlines()\n",
    "today_df = df_time_headlines(headlines_today)\n",
    "print(today_df)"
   ]
  },
  {
   "cell_type": "code",
   "execution_count": 11,
   "id": "15420313-4161-4a0a-bbf1-370b30574607",
   "metadata": {
    "tags": []
   },
   "outputs": [
    {
     "name": "stdout",
     "output_type": "stream",
     "text": [
      "2024-12-02 12:30:32,058 INFO: Initializing external client\n",
      "2024-12-02 12:30:32,059 INFO: Base URL: https://c.app.hopsworks.ai:443\n",
      "2024-12-02 12:30:33,094 INFO: Python Engine initialized.\n",
      "\n",
      "Logged in to project, explore it here https://c.app.hopsworks.ai:443/p/1163414\n"
     ]
    },
    {
     "name": "stderr",
     "output_type": "stream",
     "text": [
      "Uploading Dataframe: 100.00% |██████████| Rows 7/7 | Elapsed Time: 00:00 | Remaining Time: 00:00\n"
     ]
    },
    {
     "name": "stdout",
     "output_type": "stream",
     "text": [
      "Launching job: headlines_new_1_offline_fg_materialization\n",
      "Job started successfully, you can follow the progress at \n",
      "https://c.app.hopsworks.ai:443/p/1163414/jobs/named/headlines_new_1_offline_fg_materialization/executions\n"
     ]
    },
    {
     "data": {
      "text/plain": [
       "(Job('headlines_new_1_offline_fg_materialization', 'SPARK'), None)"
      ]
     },
     "execution_count": 11,
     "metadata": {},
     "output_type": "execute_result"
    }
   ],
   "source": [
    "import hopsworks\n",
    "KEY = \"wOWQmzzHeITT5wlJ.FkOButuQ3XpDXSUO1LnTuaNfD7SPWolfF1hateoistsLFFsBF7upULn5z6qKPOIB\"\n",
    "project = hopsworks.login(api_key_value=KEY)\n",
    "fs = project.get_feature_store()\n",
    "headlines_fg = fs.get_or_create_feature_group(\n",
    "    name='headlines_new',\n",
    "    description='Date of headline and the headline from bbc news',\n",
    "    version=1,\n",
    "    primary_key=['title'],\n",
    "    online_enabled=True \n",
    ")\n",
    "headlines_fg.insert(today_df)"
   ]
  },
  {
   "cell_type": "code",
   "execution_count": null,
   "id": "37fd91c9-c416-48bd-8784-22c5fbccf7d6",
   "metadata": {},
   "outputs": [],
   "source": []
  }
 ],
 "metadata": {
  "environment": {
   "kernel": "conda-base-py",
   "name": "workbench-notebooks.m126",
   "type": "gcloud",
   "uri": "us-docker.pkg.dev/deeplearning-platform-release/gcr.io/workbench-notebooks:m126"
  },
  "kernelspec": {
   "display_name": "Python 3 (ipykernel) (Local)",
   "language": "python",
   "name": "conda-base-py"
  },
  "language_info": {
   "codemirror_mode": {
    "name": "ipython",
    "version": 3
   },
   "file_extension": ".py",
   "mimetype": "text/x-python",
   "name": "python",
   "nbconvert_exporter": "python",
   "pygments_lexer": "ipython3",
   "version": "3.10.15"
  }
 },
 "nbformat": 4,
 "nbformat_minor": 5
}
