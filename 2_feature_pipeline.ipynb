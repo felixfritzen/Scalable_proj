{
 "cells": [
  {
   "cell_type": "code",
   "execution_count": 2,
   "id": "1f5e6231-a2ce-4f2a-921a-6c7bc3ec84e1",
   "metadata": {
    "tags": []
   },
   "outputs": [],
   "source": [
    "!pip install -U hopsworks --quiet"
   ]
  },
  {
   "cell_type": "code",
   "execution_count": 5,
   "id": "a8979ebe-87f2-427b-a6c9-24e31dcf1c82",
   "metadata": {
    "tags": []
   },
   "outputs": [],
   "source": [
    "import requests\n",
    "import pandas as pd\n",
    "from datetime import datetime\n",
    "from sentence_transformers import SentenceTransformer\n",
    "import hopsworks"
   ]
  },
  {
   "cell_type": "code",
   "execution_count": 15,
   "id": "065eba3d-b4b7-4e1f-9e11-4e7de18a6f25",
   "metadata": {
    "tags": []
   },
   "outputs": [
    {
     "name": "stdout",
     "output_type": "stream",
     "text": [
      "     pubdate                                              title\n",
      "0 2024-12-30              Can Ukraine face another year of war?\n",
      "1 2024-12-30  2024: Relive the year through its most remarka...\n",
      "2 2024-12-30  Video captures moments before South Korea plan...\n",
      "3 2024-12-30  'It's unbearable': Families wait to see loved ...\n",
      "4 2024-12-30  Frustrated families camp out at South Korea ai...\n",
      "5 2024-12-30  Chlamydia could make koalas extinct. Can a vac...\n",
      "6 2024-12-30  'I can't go on like this': US asks what's next...\n"
     ]
    }
   ],
   "source": [
    "def get_headlines():\n",
    "    response = requests.get('https://bbc-api.vercel.app/news?lang=english')\n",
    "    news_data = response.json()\n",
    "    title_set = set()\n",
    "    for article in news_data['Latest']:\n",
    "        title_set.add(article['title'])\n",
    "    return list(title_set)\n",
    "\n",
    "def df_time_headlines(headlines_today):\n",
    "    df = pd.DataFrame(headlines_today, columns=[\"title\"])\n",
    "    df[\"pubdate\"] = pd.to_datetime(datetime.today().strftime('%Y-%m-%d'))\n",
    "    df = df[[\"pubdate\", \"title\"]]\n",
    "    return df\n",
    "\n",
    "headlines_today = get_headlines()\n",
    "today_df = df_time_headlines(headlines_today)\n",
    "print(today_df)"
   ]
  },
  {
   "cell_type": "code",
   "execution_count": 24,
   "id": "e82bb3b1-dbd5-4c31-9cd2-dfee965564c2",
   "metadata": {
    "tags": []
   },
   "outputs": [
    {
     "name": "stdout",
     "output_type": "stream",
     "text": [
      "2024-12-30 10:53:44,955 INFO: Use pytorch device_name: cpu\n",
      "2024-12-30 10:53:44,956 INFO: Load pretrained SentenceTransformer: all-MiniLM-L6-v2\n"
     ]
    },
    {
     "data": {
      "application/vnd.jupyter.widget-view+json": {
       "model_id": "56b45024162447a786ea40fba49a5d80",
       "version_major": 2,
       "version_minor": 0
      },
      "text/plain": [
       "Batches:   0%|          | 0/1 [00:00<?, ?it/s]"
      ]
     },
     "metadata": {},
     "output_type": "display_data"
    },
    {
     "name": "stdout",
     "output_type": "stream",
     "text": [
      "      dim_0     dim_1     dim_2     dim_3     dim_4     dim_5     dim_6  \\\n",
      "0 -0.042341  0.015876  0.022307 -0.022998 -0.047326 -0.001631 -0.047772   \n",
      "1 -0.007151  0.113358  0.064126 -0.022800  0.016063 -0.009702 -0.137604   \n",
      "2  0.005106  0.004954  0.001836 -0.058283  0.198408  0.048843 -0.029198   \n",
      "3  0.066357  0.041667  0.023121  0.029047  0.104442 -0.002813  0.052574   \n",
      "4  0.053918  0.025673 -0.042712  0.038671  0.152683  0.041900  0.022052   \n",
      "5 -0.031812  0.076123 -0.062426  0.000308 -0.006568  0.062150 -0.071240   \n",
      "6  0.002277  0.028623 -0.007793 -0.006434  0.027018  0.046218  0.052001   \n",
      "\n",
      "      dim_7     dim_8     dim_9  ...   dim_376   dim_377   dim_378   dim_379  \\\n",
      "0 -0.121304 -0.018053 -0.038186  ... -0.007596  0.047679 -0.040935  0.030172   \n",
      "1 -0.054552 -0.002961 -0.013483  ...  0.005183  0.037771 -0.037603  0.068029   \n",
      "2  0.073342  0.065216  0.027922  ...  0.105715 -0.044914  0.025257 -0.025875   \n",
      "3 -0.026101 -0.001229 -0.014729  ... -0.007839  0.073078 -0.004648  0.094011   \n",
      "4  0.079018 -0.021556  0.078673  ...  0.009640  0.039370 -0.043761  0.021710   \n",
      "5 -0.065529  0.019495  0.054982  ...  0.073391 -0.058645 -0.006722 -0.032532   \n",
      "6 -0.014301 -0.001231 -0.048553  ...  0.024958  0.025543 -0.077231  0.044493   \n",
      "\n",
      "    dim_380   dim_381   dim_382   dim_383  \\\n",
      "0 -0.037316 -0.052180  0.049173 -0.027635   \n",
      "1  0.101936 -0.028513 -0.078286  0.033503   \n",
      "2  0.033007  0.012052 -0.093280  0.016175   \n",
      "3  0.089826  0.063454  0.010097 -0.002372   \n",
      "4  0.010691  0.085959 -0.091306 -0.000143   \n",
      "5  0.014048  0.007944  0.110590  0.123127   \n",
      "6  0.055604 -0.054053  0.040252  0.038849   \n",
      "\n",
      "                                           headlines       date  \n",
      "0              Can Ukraine face another year of war? 2024-12-30  \n",
      "1  2024: Relive the year through its most remarka... 2024-12-30  \n",
      "2  Video captures moments before South Korea plan... 2024-12-30  \n",
      "3  'It's unbearable': Families wait to see loved ... 2024-12-30  \n",
      "4  Frustrated families camp out at South Korea ai... 2024-12-30  \n",
      "5  Chlamydia could make koalas extinct. Can a vac... 2024-12-30  \n",
      "6  'I can't go on like this': US asks what's next... 2024-12-30  \n",
      "\n",
      "[7 rows x 386 columns]\n"
     ]
    }
   ],
   "source": [
    "emb_model = SentenceTransformer('all-MiniLM-L6-v2')\n",
    "embeddings = emb_model.encode(today_df['title'].tolist())\n",
    "df = pd.DataFrame(embeddings, columns=[f\"dim_{i}\" for i in range(384)])\n",
    "df[\"headlines\"] = today_df['title'].tolist()\n",
    "df[\"date\"] = today_df['pubdate'].tolist()\n",
    "print(df)\n",
    "assert len(df) >=1, 'No new headlines collected'"
   ]
  },
  {
   "cell_type": "code",
   "execution_count": 20,
   "id": "44e61885-0e81-4dff-91b0-712a92c17ed3",
   "metadata": {
    "tags": []
   },
   "outputs": [
    {
     "name": "stderr",
     "output_type": "stream",
     "text": [
      "Uploading Dataframe: 100.00% |██████████| Rows 7/7 | Elapsed Time: 00:00 | Remaining Time: 00:00\n"
     ]
    },
    {
     "name": "stdout",
     "output_type": "stream",
     "text": [
      "Launching job: headlinesemb_1_offline_fg_materialization\n",
      "Job started successfully, you can follow the progress at \n",
      "https://c.app.hopsworks.ai:443/p/1163414/jobs/named/headlinesemb_1_offline_fg_materialization/executions\n",
      "2024-12-30 10:01:49,363 INFO: Waiting for execution to finish. Current state: SUBMITTED. Final status: UNDEFINED\n",
      "2024-12-30 10:01:52,494 INFO: Waiting for execution to finish. Current state: RUNNING. Final status: UNDEFINED\n",
      "2024-12-30 10:04:45,115 INFO: Waiting for execution to finish. Current state: AGGREGATING_LOGS. Final status: SUCCEEDED\n",
      "2024-12-30 10:04:45,245 INFO: Waiting for log aggregation to finish.\n",
      "2024-12-30 10:05:06,769 INFO: Execution finished successfully.\n"
     ]
    },
    {
     "data": {
      "text/plain": [
       "(Job('headlinesemb_1_offline_fg_materialization', 'SPARK'), None)"
      ]
     },
     "execution_count": 20,
     "metadata": {},
     "output_type": "execute_result"
    }
   ],
   "source": [
    "KEY = \"wOWQmzzHeITT5wlJ.FkOButuQ3XpDXSUO1LnTuaNfD7SPWolfF1hateoistsLFFsBF7upULn5z6qKPOIB\"\n",
    "project = hopsworks.login(api_key_value=KEY)\n",
    "fs = project.get_feature_store()\n",
    "feature_group = fs.get_or_create_feature_group(\n",
    "    name=\"headlinesemb\",\n",
    "    version=1,\n",
    "    description=\"Feature group for 384-dimensional vectors\",\n",
    "    primary_key=[\"headlines\"], \n",
    "    online_enabled=True \n",
    ")\n",
    "feature_group.insert(df, write_options={\"wait_for_job\": True})"
   ]
  }
 ],
 "metadata": {
  "environment": {
   "kernel": "conda-base-py",
   "name": "workbench-notebooks.m126",
   "type": "gcloud",
   "uri": "us-docker.pkg.dev/deeplearning-platform-release/gcr.io/workbench-notebooks:m126"
  },
  "kernelspec": {
   "display_name": "Python 3 (ipykernel)",
   "language": "python",
   "name": "conda-base-py"
  },
  "language_info": {
   "codemirror_mode": {
    "name": "ipython",
    "version": 3
   },
   "file_extension": ".py",
   "mimetype": "text/x-python",
   "name": "python",
   "nbconvert_exporter": "python",
   "pygments_lexer": "ipython3",
   "version": "3.10.15"
  }
 },
 "nbformat": 4,
 "nbformat_minor": 5
}
