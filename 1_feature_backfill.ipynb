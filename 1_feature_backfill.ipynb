{
 "cells": [
  {
   "cell_type": "code",
   "execution_count": null,
   "id": "5dd59733-9e64-4e34-aaec-69a4099645ea",
   "metadata": {},
   "outputs": [],
   "source": [
    "!pip install -U hopsworks --quiet"
   ]
  },
  {
   "cell_type": "code",
   "execution_count": 3,
   "id": "8028613a-c34e-4560-b67f-cf6486b0dcd7",
   "metadata": {
    "tags": []
   },
   "outputs": [],
   "source": [
    "from math import radians\n",
    "\n",
    "import numpy as np\n",
    "import pandas as pd\n",
    "\n",
    "import transactions_fraud\n",
    "\n",
    "import great_expectations\n",
    "# Mute warnings\n",
    "import warnings\n",
    "warnings.filterwarnings(\"ignore\")\n",
    "import pandas as pd"
   ]
  },
  {
   "cell_type": "code",
   "execution_count": null,
   "id": "25b370f1-2795-4149-b0d0-d3c9ed51e7d6",
   "metadata": {},
   "outputs": [],
   "source": [
    "path = kagglehub.dataset_download(\"gpreda/bbc-news\")\n",
    "print(\"Path to dataset files:\", path #\"/home/jupyter/.cache/kagglehub/datasets/gpreda/bbc-news/versions/100\" \n",
    "shutil.move(path, './')"
   ]
  },
  {
   "cell_type": "code",
   "execution_count": 15,
   "id": "7654811a-0591-415b-a5e1-e53dc576c259",
   "metadata": {
    "tags": []
   },
   "outputs": [
    {
     "name": "stdout",
     "output_type": "stream",
     "text": [
      "         pubDate                                              title\n",
      "25931 2023-12-01  'I’m not ready to lose hope’: The hostages sti...\n",
      "25932 2023-12-02  COP28: Huge rise in oil drilling expected from...\n",
      "25933 2023-12-01  England 3-2 Netherlands: Ella Toone scores lat...\n",
      "25934 2023-12-01  University Challenge: Christmas episode axed a...\n",
      "25935 2023-12-01  King's tie features Greek flag after Elgin Mar...\n",
      "         pubDate                                              title\n",
      "41961 2024-11-29  Ditcheva first British woman to win MMA world ...\n",
      "41962 2024-11-29  UK's first Dignitas widow feels ‘wonderful’ af...\n",
      "41963 2024-11-29  Tight three-way race in Irish general election...\n",
      "41964 2024-11-29  Could police have handled Skye shooting differ...\n",
      "41965 2024-11-29        Angry doctors owed thousands refuse to work\n",
      "41966\n",
      "2024-12-02 12:08:13,273 INFO: Closing external client and cleaning up certificates.\n",
      "Connection closed.\n",
      "2024-12-02 12:08:13,276 INFO: Initializing external client\n",
      "2024-12-02 12:08:13,277 INFO: Base URL: https://c.app.hopsworks.ai:443\n",
      "2024-12-02 12:08:14,374 INFO: Python Engine initialized.\n",
      "\n",
      "Logged in to project, explore it here https://c.app.hopsworks.ai:443/p/1163414\n",
      "         pubDate                                              title\n",
      "25931 2023-12-01  'I’m not ready to lose hope’: The hostages sti...\n",
      "25932 2023-12-02  COP28: Huge rise in oil drilling expected from...\n",
      "25933 2023-12-01  England 3-2 Netherlands: Ella Toone scores lat...\n",
      "25934 2023-12-01  University Challenge: Christmas episode axed a...\n",
      "25935 2023-12-01  King's tie features Greek flag after Elgin Mar...\n",
      "...          ...                                                ...\n",
      "41961 2024-11-29  Ditcheva first British woman to win MMA world ...\n",
      "41962 2024-11-29  UK's first Dignitas widow feels ‘wonderful’ af...\n",
      "41963 2024-11-29  Tight three-way race in Irish general election...\n",
      "41964 2024-11-29  Could police have handled Skye shooting differ...\n",
      "41965 2024-11-29        Angry doctors owed thousands refuse to work\n",
      "\n",
      "[16003 rows x 2 columns]\n",
      "Feature Group created successfully, explore it at \n",
      "https://c.app.hopsworks.ai:443/p/1163414/fs/1154117/fg/1377716\n"
     ]
    },
    {
     "name": "stderr",
     "output_type": "stream",
     "text": [
      "Uploading Dataframe: 100.00% |██████████| Rows 16003/16003 | Elapsed Time: 00:01 | Remaining Time: 00:00\n"
     ]
    },
    {
     "name": "stdout",
     "output_type": "stream",
     "text": [
      "Launching job: headlines_new_1_offline_fg_materialization\n",
      "Job started successfully, you can follow the progress at \n",
      "https://c.app.hopsworks.ai:443/p/1163414/jobs/named/headlines_new_1_offline_fg_materialization/executions\n"
     ]
    },
    {
     "data": {
      "text/plain": [
       "(Job('headlines_new_1_offline_fg_materialization', 'SPARK'), None)"
      ]
     },
     "execution_count": 15,
     "metadata": {},
     "output_type": "execute_result"
    }
   ],
   "source": [
    "def get_backfill():\n",
    "    file_path = './bbc_news.csv'\n",
    "    df = pd.read_csv(file_path)\n",
    "    df = df[['pubDate', 'title']]\n",
    "    df['pubDate'] = pd.to_datetime(df['pubDate'], format='%a, %d %b %Y %H:%M:%S GMT')\n",
    "    # as 'YYYY-MM-DD'\n",
    "    df['pubDate'] =  pd.to_datetime(df['pubDate'].dt.strftime('%Y-%m-%d'))\n",
    "    df2 = df[df['pubDate'] > pd.to_datetime('2023-11-30')]\n",
    "    print(df2.head())\n",
    "    print(df.tail())\n",
    "    print(len(df))\n",
    "    return df2\n",
    "df_headlines = get_backfill()\n",
    "\n",
    "import hopsworks\n",
    "KEY = \"wOWQmzzHeITT5wlJ.FkOButuQ3XpDXSUO1LnTuaNfD7SPWolfF1hateoistsLFFsBF7upULn5z6qKPOIB\"\n",
    "project = hopsworks.login(api_key_value=KEY)\n",
    "fs = project.get_feature_store()\n",
    "headlines_fg = fs.get_or_create_feature_group(\n",
    "    name='headlines_new',\n",
    "    description='Date of headline and the headline from bbc news',\n",
    "    version=1,\n",
    "    primary_key=['title'],\n",
    "    online_enabled=True \n",
    ")\n",
    "print(df_headlines)\n",
    "\n",
    "headlines_fg.insert(df_headlines)"
   ]
  },
  {
   "cell_type": "code",
   "execution_count": 17,
   "id": "fb031fd7-c00d-4d5c-9519-9483aef07039",
   "metadata": {
    "tags": []
   },
   "outputs": [],
   "source": [
    "trans_fg = fs.get_feature_group(\n",
    "    name='headlines_new', \n",
    "    version=1,\n",
    ")\n",
    "selected_features = trans_fg.select_all()"
   ]
  },
  {
   "cell_type": "code",
   "execution_count": 18,
   "id": "f0e6f761-7a45-442c-88c8-248891a05df5",
   "metadata": {
    "tags": []
   },
   "outputs": [
    {
     "name": "stdout",
     "output_type": "stream",
     "text": [
      "Feature view created successfully, explore it at \n",
      "https://c.app.hopsworks.ai:443/p/1163414/fs/1154117/fv/headlines_new/version/1\n"
     ]
    }
   ],
   "source": [
    "feature_view = fs.get_or_create_feature_view(\n",
    "    name='headlines_new',\n",
    "    version=1,\n",
    "    query=selected_features,\n",
    "    logging_enabled=True\n",
    ")"
   ]
  },
  {
   "cell_type": "code",
   "execution_count": 19,
   "id": "7726d02f-4134-4574-8849-898c70e1ddce",
   "metadata": {
    "tags": []
   },
   "outputs": [
    {
     "name": "stdout",
     "output_type": "stream",
     "text": [
      "Finished: Reading data from Hopsworks, using Hopsworks Feature Query Service (1.45s) \n"
     ]
    },
    {
     "name": "stderr",
     "output_type": "stream",
     "text": [
      "VersionWarning: Incremented version to `1`.\n"
     ]
    }
   ],
   "source": [
    "feature_df = feature_view.training_data(\n",
    "    description = 'Headlines',\n",
    ")"
   ]
  },
  {
   "cell_type": "code",
   "execution_count": 20,
   "id": "cec3f0a6-1288-44e8-aedd-ce5e6472dd3d",
   "metadata": {
    "tags": []
   },
   "outputs": [
    {
     "name": "stdout",
     "output_type": "stream",
     "text": [
      "(                         pubdate  \\\n",
      "0      2024-02-25 00:00:00+00:00   \n",
      "1      2024-05-17 00:00:00+00:00   \n",
      "2      2024-11-21 00:00:00+00:00   \n",
      "3      2024-01-03 00:00:00+00:00   \n",
      "4      2024-06-10 00:00:00+00:00   \n",
      "...                          ...   \n",
      "14684  2024-06-03 00:00:00+00:00   \n",
      "14685  2024-06-07 00:00:00+00:00   \n",
      "14686  2024-05-01 00:00:00+00:00   \n",
      "14687  2024-10-17 00:00:00+00:00   \n",
      "14688  2024-09-19 00:00:00+00:00   \n",
      "\n",
      "                                                   title  \n",
      "0      Man sets himself on fire outside US Israeli em...  \n",
      "1                WSL title race 'all comes down to this'  \n",
      "2      Son of IRA murder victim calls Disney drama 'h...  \n",
      "3      Statistics watchdog to examine government asyl...  \n",
      "4      Raducanu in 'really fit place' as grass season...  \n",
      "...                                                  ...  \n",
      "14684  Dog fighting group jailed after illegal bouts ...  \n",
      "14685          Eminem claims first number one since 2020  \n",
      "14686   Arizona Senate votes to repeal 1864 abortion ban  \n",
      "14687            Who was the Hamas leader, Yahya Sinwar?  \n",
      "14688  Video captures Beirut's skyline as devices exp...  \n",
      "\n",
      "[14689 rows x 2 columns], None)\n"
     ]
    }
   ],
   "source": [
    "print(feature_df)"
   ]
  },
  {
   "cell_type": "code",
   "execution_count": null,
   "id": "3b58c883-1736-42e1-8d33-eb308392e92c",
   "metadata": {},
   "outputs": [],
   "source": []
  }
 ],
 "metadata": {
  "environment": {
   "kernel": "conda-base-py",
   "name": "workbench-notebooks.m126",
   "type": "gcloud",
   "uri": "us-docker.pkg.dev/deeplearning-platform-release/gcr.io/workbench-notebooks:m126"
  },
  "kernelspec": {
   "display_name": "Python 3 (ipykernel) (Local)",
   "language": "python",
   "name": "conda-base-py"
  },
  "language_info": {
   "codemirror_mode": {
    "name": "ipython",
    "version": 3
   },
   "file_extension": ".py",
   "mimetype": "text/x-python",
   "name": "python",
   "nbconvert_exporter": "python",
   "pygments_lexer": "ipython3",
   "version": "3.10.15"
  }
 },
 "nbformat": 4,
 "nbformat_minor": 5
}
