{
 "cells": [
  {
   "cell_type": "code",
   "execution_count": null,
   "id": "5dd59733-9e64-4e34-aaec-69a4099645ea",
   "metadata": {},
   "outputs": [],
   "source": [
    "!pip install -U hopsworks --quiet"
   ]
  },
  {
   "cell_type": "code",
   "execution_count": 34,
   "id": "8028613a-c34e-4560-b67f-cf6486b0dcd7",
   "metadata": {
    "tags": []
   },
   "outputs": [],
   "source": [
    "import numpy as np\n",
    "import pandas as pd\n",
    "\n",
    "#import transactions_fraud\n",
    "\n",
    "#import great_expectations\n",
    "# Mute warnings\n",
    "import warnings\n",
    "warnings.filterwarnings(\"ignore\")\n",
    "import pandas as pd\n",
    "import kagglehub\n",
    "import shutil\n",
    "\n",
    "from datetime import datetime, timedelta\n",
    "from dateutil.relativedelta import relativedelta\n",
    "from sentence_transformers import SentenceTransformer"
   ]
  },
  {
   "cell_type": "markdown",
   "id": "400be31b-24d7-4f9d-b3c1-d9a986d7f0aa",
   "metadata": {},
   "source": [
    "Download csv file from kaggle, then move it"
   ]
  },
  {
   "cell_type": "code",
   "execution_count": null,
   "id": "25b370f1-2795-4149-b0d0-d3c9ed51e7d6",
   "metadata": {
    "tags": []
   },
   "outputs": [],
   "source": [
    "path = kagglehub.dataset_download(\"gpreda/bbc-news\")\n",
    "print(\"Path to dataset files:\", path) #\"/home/jupyter/.cache/kagglehub/datasets/gpreda/bbc-news/versions/100\" \n",
    "shutil.move(path, './')"
   ]
  },
  {
   "cell_type": "markdown",
   "id": "e2dc53d4-dc9c-4fcf-b75c-b723b3fc58e6",
   "metadata": {
    "tags": []
   },
   "source": [
    "Extract the data"
   ]
  },
  {
   "cell_type": "code",
   "execution_count": 15,
   "id": "7654811a-0591-415b-a5e1-e53dc576c259",
   "metadata": {
    "tags": []
   },
   "outputs": [
    {
     "name": "stdout",
     "output_type": "stream",
     "text": [
      "         pubDate                                              title\n",
      "27191 2023-12-30   Man charged with murder over Sheffield car crash\n",
      "27242 2023-12-30  Ukraine war: Kremlin says 20 dead after attack...\n",
      "27243 2023-12-31  Inside Russia as war in Ukraine grinds into ne...\n",
      "27244 2023-12-30     Tom Wilkinson: The Full Monty actor dies at 75\n",
      "27245 2023-12-30  Eurostar services to resume after major disrup...\n",
      "         pubDate                                              title\n",
      "41961 2024-11-29  Ditcheva first British woman to win MMA world ...\n",
      "41962 2024-11-29  UK's first Dignitas widow feels ‘wonderful’ af...\n",
      "41963 2024-11-29  Tight three-way race in Irish general election...\n",
      "41964 2024-11-29  Could police have handled Skye shooting differ...\n",
      "41965 2024-11-29        Angry doctors owed thousands refuse to work\n",
      "41966\n"
     ]
    }
   ],
   "source": [
    "def get_backfill():\n",
    "    file_path = './bbc_news.csv'\n",
    "    df = pd.read_csv(file_path)\n",
    "    df = df[['pubDate', 'title']]\n",
    "    df['pubDate'] = pd.to_datetime(df['pubDate'], format='%a, %d %b %Y %H:%M:%S GMT')\n",
    "    # as 'YYYY-MM-DD'\n",
    "    df['pubDate'] =  pd.to_datetime(df['pubDate'].dt.strftime('%Y-%m-%d'))\n",
    "    df2 = df[df['pubDate'] > pd.to_datetime('2023-12-29')]\n",
    "    print(df2.head())\n",
    "    print(df.tail())\n",
    "    print(len(df))\n",
    "    return df2\n",
    "df_headlines = get_backfill()"
   ]
  },
  {
   "cell_type": "markdown",
   "id": "29faf88b-20ab-4254-9736-58b76a4be9e8",
   "metadata": {},
   "source": [
    "Get the embedding model"
   ]
  },
  {
   "cell_type": "code",
   "execution_count": 16,
   "id": "d90dfd20-5f7f-4133-aaaf-1ab990e785f4",
   "metadata": {
    "tags": []
   },
   "outputs": [
    {
     "name": "stdout",
     "output_type": "stream",
     "text": [
      "2024-12-30 09:27:33,591 INFO: Use pytorch device_name: cpu\n",
      "2024-12-30 09:27:33,592 INFO: Load pretrained SentenceTransformer: all-MiniLM-L6-v2\n"
     ]
    }
   ],
   "source": [
    "emb_model = SentenceTransformer('all-MiniLM-L6-v2')"
   ]
  },
  {
   "cell_type": "code",
   "execution_count": 17,
   "id": "510966ca-3f9c-431d-a51e-0e77a0849d19",
   "metadata": {
    "tags": []
   },
   "outputs": [
    {
     "name": "stdout",
     "output_type": "stream",
     "text": [
      "2024-12-30 09:30:53,682 INFO: Closing external client and cleaning up certificates.\n",
      "Connection closed.\n",
      "2024-12-30 09:30:53,692 INFO: Initializing external client\n",
      "2024-12-30 09:30:53,694 INFO: Base URL: https://c.app.hopsworks.ai:443\n",
      "2024-12-30 09:30:54,838 INFO: Python Engine initialized.\n",
      "\n",
      "Logged in to project, explore it here https://c.app.hopsworks.ai:443/p/1163414\n"
     ]
    }
   ],
   "source": [
    "KEY = \"wOWQmzzHeITT5wlJ.FkOButuQ3XpDXSUO1LnTuaNfD7SPWolfF1hateoistsLFFsBF7upULn5z6qKPOIB\"\n",
    "project = hopsworks.login(api_key_value=KEY)"
   ]
  },
  {
   "cell_type": "code",
   "execution_count": 23,
   "id": "af93d6c7-66bb-43c8-bf46-7dd6598f2196",
   "metadata": {
    "tags": []
   },
   "outputs": [
    {
     "data": {
      "application/vnd.jupyter.widget-view+json": {
       "model_id": "cc28798222474a418325b9acbfd6df59",
       "version_major": 2,
       "version_minor": 0
      },
      "text/plain": [
       "Batches:   0%|          | 0/460 [00:00<?, ?it/s]"
      ]
     },
     "metadata": {},
     "output_type": "display_data"
    }
   ],
   "source": [
    "embeddings = emb_model.encode(df_headlines['title'].tolist())"
   ]
  },
  {
   "cell_type": "code",
   "execution_count": 24,
   "id": "b8643150-9614-47bb-81e7-704c4777122c",
   "metadata": {
    "tags": []
   },
   "outputs": [
    {
     "name": "stdout",
     "output_type": "stream",
     "text": [
      "(14691, 384)\n"
     ]
    }
   ],
   "source": [
    "print(embeddings.shape)"
   ]
  },
  {
   "cell_type": "markdown",
   "id": "86feb420-761a-458e-a85b-6b6f69f7fe43",
   "metadata": {},
   "source": [
    "Write the embeddings, headlines and dates to hopsworks"
   ]
  },
  {
   "cell_type": "code",
   "execution_count": null,
   "id": "174cfb89-3163-4771-8cf7-c5dcdc97bee9",
   "metadata": {
    "tags": []
   },
   "outputs": [],
   "source": [
    "df = pd.DataFrame(embeddings, columns=[f\"dim_{i}\" for i in range(384)])\n",
    "print(df)\n",
    "df[\"headlines\"] = df_headlines['title'].tolist()\n",
    "df[\"date\"] = df_headlines['pubDate'].tolist()\n",
    "feature_group = fs.get_or_create_feature_group(\n",
    "    name=\"headlinesemb\",\n",
    "    version=1,\n",
    "    description=\"Feature group for 384-dimensional vectors\",\n",
    "    primary_key=[\"headlines\"], \n",
    "    online_enabled=True \n",
    ")\n",
    "feature_group.insert(df, write_options={\"wait_for_job\": True})\n",
    "print(\"384-dimensional vectors successfully written to Hopsworks Feature Store.\")"
   ]
  }
 ],
 "metadata": {
  "environment": {
   "kernel": "conda-base-py",
   "name": "workbench-notebooks.m126",
   "type": "gcloud",
   "uri": "us-docker.pkg.dev/deeplearning-platform-release/gcr.io/workbench-notebooks:m126"
  },
  "kernelspec": {
   "display_name": "Python 3 (ipykernel)",
   "language": "python",
   "name": "conda-base-py"
  },
  "language_info": {
   "codemirror_mode": {
    "name": "ipython",
    "version": 3
   },
   "file_extension": ".py",
   "mimetype": "text/x-python",
   "name": "python",
   "nbconvert_exporter": "python",
   "pygments_lexer": "ipython3",
   "version": "3.10.15"
  }
 },
 "nbformat": 4,
 "nbformat_minor": 5
}
