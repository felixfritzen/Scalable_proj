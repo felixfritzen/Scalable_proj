{
 "cells": [
  {
   "cell_type": "code",
   "execution_count": 3,
   "id": "55ea3b38-83d6-402a-8de3-d2abcf613823",
   "metadata": {
    "tags": []
   },
   "outputs": [],
   "source": [
    "from sklearn.decomposition import PCA\n",
    "import hopsworks\n",
    "import pandas as pd\n",
    "from PIL import Image\n",
    "import matplotlib.pyplot as plt\n",
    "import numpy as np\n",
    "from sentence_transformers import SentenceTransformer\n",
    "from sklearn.cluster import KMeans\n",
    "from sklearn.metrics import silhouette_score\n",
    "from sklearn.feature_extraction.text import CountVectorizer\n",
    "from collections import Counter\n",
    "\n",
    "from datetime import datetime, timedelta\n",
    "from dateutil.relativedelta import relativedelta"
   ]
  },
  {
   "cell_type": "code",
   "execution_count": 4,
   "id": "a1c03db4-231d-4b2b-8484-c6a4017e34e3",
   "metadata": {
    "tags": []
   },
   "outputs": [
    {
     "name": "stdout",
     "output_type": "stream",
     "text": [
      "2024-12-30 10:18:41,010 INFO: Initializing external client\n",
      "2024-12-30 10:18:41,012 INFO: Base URL: https://c.app.hopsworks.ai:443\n",
      "2024-12-30 10:18:42,294 INFO: Python Engine initialized.\n",
      "\n",
      "Logged in to project, explore it here https://c.app.hopsworks.ai:443/p/1163414\n",
      "Finished: Reading data from Hopsworks, using Hopsworks Feature Query Service (2.28s) \n",
      "          dim_0     dim_1     dim_2     dim_3     dim_4     dim_5     dim_6  \\\n",
      "3016   0.009504 -0.000808  0.018312 -0.061341 -0.046319  0.025388 -0.024238   \n",
      "10784  0.035778  0.061700  0.076458  0.039224  0.054754 -0.023615 -0.099850   \n",
      "7168   0.043952  0.065020  0.051891  0.002397  0.041112 -0.036826  0.000049   \n",
      "10864 -0.034407 -0.044771 -0.013619 -0.056081  0.035009  0.084344  0.072522   \n",
      "12324  0.074079  0.017636 -0.037147  0.025048  0.063006 -0.024143 -0.002338   \n",
      "\n",
      "          dim_7     dim_8     dim_9  ...   dim_376   dim_377   dim_378  \\\n",
      "3016  -0.010634 -0.062965  0.008658  ... -0.009284 -0.032884 -0.056897   \n",
      "10784 -0.097514 -0.075036  0.013504  ... -0.035019  0.017734 -0.053863   \n",
      "7168  -0.084978  0.029190 -0.029300  ...  0.049395 -0.028137  0.013648   \n",
      "10864  0.074516  0.053211 -0.050120  ... -0.069973 -0.016300 -0.059028   \n",
      "12324  0.077985 -0.031429  0.067304  ... -0.000336  0.082822 -0.025535   \n",
      "\n",
      "        dim_379   dim_380   dim_381   dim_382   dim_383  \\\n",
      "3016   0.044863  0.071058 -0.024173 -0.000212  0.054687   \n",
      "10784  0.067468 -0.028673 -0.016106 -0.087240  0.014841   \n",
      "7168   0.043322  0.020115 -0.027135 -0.138211  0.065280   \n",
      "10864 -0.035066  0.012512 -0.023146  0.017844  0.020451   \n",
      "12324 -0.077857  0.016354  0.026427  0.063663  0.004513   \n",
      "\n",
      "                                               headlines  \\\n",
      "3016   Peter Shilton 'delighted' by CBE in New Year H...   \n",
      "10784    Why 2023 was an uncomfortable year for the West   \n",
      "7168   Photographer stops time to snap butterflies an...   \n",
      "10864  MOTD analysis: Chelsea's Cole Palmer a 'rare t...   \n",
      "12324   Man charged with murder over Sheffield car crash   \n",
      "\n",
      "                           date  \n",
      "3016  2023-12-30 00:00:00+00:00  \n",
      "10784 2023-12-30 00:00:00+00:00  \n",
      "7168  2023-12-30 00:00:00+00:00  \n",
      "10864 2023-12-30 00:00:00+00:00  \n",
      "12324 2023-12-30 00:00:00+00:00  \n",
      "\n",
      "[5 rows x 386 columns]\n",
      "          dim_0     dim_1     dim_2     dim_3     dim_4     dim_5     dim_6  \\\n",
      "13422  0.066357  0.041667  0.023121  0.029047  0.104442 -0.002813  0.052574   \n",
      "13418  0.002277  0.028623 -0.007793 -0.006434  0.027018  0.046218  0.052001   \n",
      "13417 -0.042341  0.015876  0.022307 -0.022998 -0.047326 -0.001631 -0.047772   \n",
      "13419  0.005106  0.004954  0.001836 -0.058283  0.198408  0.048843 -0.029198   \n",
      "13423 -0.007151  0.113358  0.064126 -0.022800  0.016063 -0.009702 -0.137604   \n",
      "\n",
      "          dim_7     dim_8     dim_9  ...   dim_376   dim_377   dim_378  \\\n",
      "13422 -0.026101 -0.001229 -0.014729  ... -0.007839  0.073078 -0.004648   \n",
      "13418 -0.014301 -0.001231 -0.048553  ...  0.024958  0.025543 -0.077231   \n",
      "13417 -0.121304 -0.018053 -0.038186  ... -0.007596  0.047679 -0.040935   \n",
      "13419  0.073342  0.065216  0.027922  ...  0.105715 -0.044914  0.025257   \n",
      "13423 -0.054552 -0.002961 -0.013483  ...  0.005183  0.037771 -0.037603   \n",
      "\n",
      "        dim_379   dim_380   dim_381   dim_382   dim_383  \\\n",
      "13422  0.094011  0.089826  0.063454  0.010097 -0.002372   \n",
      "13418  0.044493  0.055604 -0.054053  0.040252  0.038849   \n",
      "13417  0.030172 -0.037316 -0.052180  0.049173 -0.027635   \n",
      "13419 -0.025875  0.033007  0.012052 -0.093280  0.016175   \n",
      "13423  0.068029  0.101936 -0.028513 -0.078286  0.033503   \n",
      "\n",
      "                                               headlines  \\\n",
      "13422  'It's unbearable': Families wait to see loved ...   \n",
      "13418  'I can't go on like this': US asks what's next...   \n",
      "13417              Can Ukraine face another year of war?   \n",
      "13419  Video captures moments before South Korea plan...   \n",
      "13423  2024: Relive the year through its most remarka...   \n",
      "\n",
      "                           date  \n",
      "13422 2024-12-30 00:00:00+00:00  \n",
      "13418 2024-12-30 00:00:00+00:00  \n",
      "13417 2024-12-30 00:00:00+00:00  \n",
      "13419 2024-12-30 00:00:00+00:00  \n",
      "13423 2024-12-30 00:00:00+00:00  \n",
      "\n",
      "[5 rows x 386 columns]\n"
     ]
    }
   ],
   "source": [
    "project = hopsworks.login(api_key_value=\"wOWQmzzHeITT5wlJ.FkOButuQ3XpDXSUO1LnTuaNfD7SPWolfF1hateoistsLFFsBF7upULn5z6qKPOIB\")\n",
    "fs = project.get_feature_store() \n",
    "headline_fg = fs.get_feature_group(\n",
    "    name='headlinesemb', \n",
    "    version=1,\n",
    ")\n",
    "headline_df = headline_fg.read()\n",
    "headline_df = headline_df.sort_values(by='date')\n",
    "\n",
    "print(headline_df.head())\n",
    "print(headline_df.tail())"
   ]
  },
  {
   "cell_type": "code",
   "execution_count": 8,
   "id": "131f3534-09b1-490f-ae3b-c39118a40adf",
   "metadata": {
    "tags": []
   },
   "outputs": [],
   "source": [
    "def df_between_dates(df, start_date, end_date):\n",
    "    return df[(df['date'] >= start_date) & (df['date'] <= end_date)]\n",
    "\n",
    "now = datetime.now()\n",
    "past_year = now + relativedelta(years=-1)\n",
    "#df_week = df_between_dates(headline_df, '2024-11-01', '2024-12-3')\n",
    "df = df_between_dates(headline_df, past_year.strftime(\"%Y-%m-%d\"), now.strftime(\"%Y-%m-%d\"))"
   ]
  },
  {
   "cell_type": "code",
   "execution_count": 9,
   "id": "e9242d12-574a-40ad-b66b-f3843ff21e4e",
   "metadata": {
    "tags": []
   },
   "outputs": [
    {
     "name": "stdout",
     "output_type": "stream",
     "text": [
      "2024-12-30 10:20:42,792 INFO: Use pytorch device_name: cpu\n",
      "2024-12-30 10:20:42,794 INFO: Load pretrained SentenceTransformer: all-MiniLM-L6-v2\n"
     ]
    }
   ],
   "source": [
    "emb_model = SentenceTransformer('all-MiniLM-L6-v2')"
   ]
  },
  {
   "cell_type": "code",
   "execution_count": 10,
   "id": "5d96de21-84c7-4d8a-b50c-9bc78d7c15ef",
   "metadata": {
    "tags": []
   },
   "outputs": [],
   "source": [
    "headlines= df['headlines'].tolist()\n",
    "embeddings = df[[f\"dim_{i}\" for i in range(384)]].to_numpy()#emb_model.encode(headlines[key])"
   ]
  },
  {
   "cell_type": "code",
   "execution_count": 12,
   "id": "b5cd40d4-1da2-4b99-b3e1-c8500f91765c",
   "metadata": {
    "tags": []
   },
   "outputs": [],
   "source": [
    "def training(embeddings, headlines, n_clusters=3):\n",
    "    kmeans = KMeans(n_clusters=n_clusters, random_state=22)\n",
    "    clusters = kmeans.fit(embeddings) # 1, 2 or 3... for each headline\n",
    "    pca = PCA(n_components=2)\n",
    "    pca.fit(embeddings)\n",
    "    return kmeans, pca\n",
    "n_clusters=5\n",
    "kmeans,pca = training(embeddings, headlines, n_clusters)"
   ]
  },
  {
   "cell_type": "code",
   "execution_count": 13,
   "id": "a4a11873-a311-4191-be94-3217092f6544",
   "metadata": {
    "tags": []
   },
   "outputs": [
    {
     "data": {
      "application/vnd.jupyter.widget-view+json": {
       "model_id": "e231c0ca2ec34f20aea2b5b928c8df75",
       "version_major": 2,
       "version_minor": 0
      },
      "text/plain": [
       "Batches:   0%|          | 0/1 [00:00<?, ?it/s]"
      ]
     },
     "metadata": {},
     "output_type": "display_data"
    },
    {
     "name": "stdout",
     "output_type": "stream",
     "text": [
      "[2 4]\n"
     ]
    }
   ],
   "source": [
    "emb =  emb_model.encode(['police', 'Trump'])\n",
    "clusters = kmeans.predict(emb)\n",
    "print(clusters)"
   ]
  },
  {
   "cell_type": "code",
   "execution_count": 14,
   "id": "0bc9d1df-261f-444b-8a1a-ab4ac260e35d",
   "metadata": {
    "tags": []
   },
   "outputs": [],
   "source": [
    "import pickle\n",
    "with open(\"pca_model.pkl\", \"wb\") as pca_file:\n",
    "    pickle.dump(pca, pca_file)\n",
    "\n",
    "with open(\"kmeans_model.pkl\", \"wb\") as kmeans_file:\n",
    "    pickle.dump(kmeans, kmeans_file)"
   ]
  },
  {
   "cell_type": "code",
   "execution_count": 15,
   "id": "fa100f59-7a1d-4470-9a28-bcaa9916a91b",
   "metadata": {
    "tags": []
   },
   "outputs": [
    {
     "data": {
      "application/vnd.jupyter.widget-view+json": {
       "model_id": "ce636d00012946adba510358141bd758",
       "version_major": 2,
       "version_minor": 0
      },
      "text/plain": [
       "  0%|          | 0/6 [00:00<?, ?it/s]"
      ]
     },
     "metadata": {},
     "output_type": "display_data"
    },
    {
     "data": {
      "application/vnd.jupyter.widget-view+json": {
       "model_id": "d60ee16952594c138212994a881ad3be",
       "version_major": 2,
       "version_minor": 0
      },
      "text/plain": [
       "Uploading: 0.000%|          | 0/5399 elapsed<00:00 remaining<?"
      ]
     },
     "metadata": {},
     "output_type": "display_data"
    },
    {
     "name": "stdout",
     "output_type": "stream",
     "text": [
      "Model created, explore it at https://c.app.hopsworks.ai:443/p/1163414/models/PCA_Model/12\n"
     ]
    },
    {
     "data": {
      "application/vnd.jupyter.widget-view+json": {
       "model_id": "50c9f003c97e4a41aa7c25c8ba61a303",
       "version_major": 2,
       "version_minor": 0
      },
      "text/plain": [
       "  0%|          | 0/6 [00:00<?, ?it/s]"
      ]
     },
     "metadata": {},
     "output_type": "display_data"
    },
    {
     "data": {
      "application/vnd.jupyter.widget-view+json": {
       "model_id": "f9864262f26548b392ed78249ea47f8b",
       "version_major": 2,
       "version_minor": 0
      },
      "text/plain": [
       "Uploading: 0.000%|          | 0/62027 elapsed<00:00 remaining<?"
      ]
     },
     "metadata": {},
     "output_type": "display_data"
    },
    {
     "name": "stdout",
     "output_type": "stream",
     "text": [
      "Model created, explore it at https://c.app.hopsworks.ai:443/p/1163414/models/KMeans_Model/12\n"
     ]
    },
    {
     "data": {
      "text/plain": [
       "Model(name: 'KMeans_Model', version: 12)"
      ]
     },
     "execution_count": 15,
     "metadata": {},
     "output_type": "execute_result"
    }
   ],
   "source": [
    "mr = project.get_model_registry()\n",
    "\n",
    "pca_model = mr.python.create_model(\n",
    "    name=\"PCA_Model\",\n",
    "    description=\"PCA model for dimensionality reduction\"\n",
    ")\n",
    "kmeans_model = mr.python.create_model(\n",
    "    name=\"KMeans_Model\",\n",
    "    description=\"KMeans clustering model\"\n",
    ")\n",
    "pca_model.save('pca_model.pkl')\n",
    "kmeans_model.save('kmeans_model.pkl')"
   ]
  },
  {
   "cell_type": "markdown",
   "id": "e3f5fa55-0c6f-46c1-aea4-bbe3a8b98e87",
   "metadata": {},
   "source": [
    "Look at size"
   ]
  },
  {
   "cell_type": "code",
   "execution_count": 16,
   "id": "c34736b6-d71b-4be6-9c87-6154b0456355",
   "metadata": {
    "tags": []
   },
   "outputs": [
    {
     "name": "stdout",
     "output_type": "stream",
     "text": [
      "(13424, 384)\n",
      "13424\n"
     ]
    }
   ],
   "source": [
    "print(embeddings.shape)\n",
    "print(len(headlines))"
   ]
  },
  {
   "cell_type": "code",
   "execution_count": 17,
   "id": "e1bf09c4-c338-4396-8666-63571168a091",
   "metadata": {
    "tags": []
   },
   "outputs": [
    {
     "name": "stdout",
     "output_type": "stream",
     "text": [
      "0.0001220703125\n",
      "0.10247039794921875\n"
     ]
    }
   ],
   "source": [
    "#size mb, headlines 1000 times larger\n",
    "import sys\n",
    "print(sys.getsizeof(embeddings)/ (1024**2))\n",
    "print(sys.getsizeof(headlines)/ (1024**2))"
   ]
  },
  {
   "cell_type": "code",
   "execution_count": null,
   "id": "83a3cf6e-4c46-425f-b18a-29cb8de918f0",
   "metadata": {},
   "outputs": [],
   "source": []
  }
 ],
 "metadata": {
  "environment": {
   "kernel": "conda-base-py",
   "name": "workbench-notebooks.m126",
   "type": "gcloud",
   "uri": "us-docker.pkg.dev/deeplearning-platform-release/gcr.io/workbench-notebooks:m126"
  },
  "kernelspec": {
   "display_name": "Python 3 (ipykernel)",
   "language": "python",
   "name": "conda-base-py"
  },
  "language_info": {
   "codemirror_mode": {
    "name": "ipython",
    "version": 3
   },
   "file_extension": ".py",
   "mimetype": "text/x-python",
   "name": "python",
   "nbconvert_exporter": "python",
   "pygments_lexer": "ipython3",
   "version": "3.10.15"
  }
 },
 "nbformat": 4,
 "nbformat_minor": 5
}
