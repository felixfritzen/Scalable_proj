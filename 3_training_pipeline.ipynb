{
 "cells": [
  {
   "cell_type": "code",
   "execution_count": 1,
   "id": "55ea3b38-83d6-402a-8de3-d2abcf613823",
   "metadata": {
    "tags": []
   },
   "outputs": [],
   "source": [
    "from sklearn.decomposition import PCA\n",
    "import hopsworks\n",
    "import pandas as pd\n",
    "from PIL import Image\n",
    "import matplotlib.pyplot as plt\n",
    "import numpy as np\n",
    "from sentence_transformers import SentenceTransformer\n",
    "from sklearn.cluster import KMeans\n",
    "from sklearn.metrics import silhouette_score\n",
    "from sklearn.feature_extraction.text import CountVectorizer\n",
    "from collections import Counter\n",
    "\n",
    "from datetime import datetime, timedelta\n",
    "from dateutil.relativedelta import relativedelta"
   ]
  },
  {
   "cell_type": "code",
   "execution_count": 2,
   "id": "a1c03db4-231d-4b2b-8484-c6a4017e34e3",
   "metadata": {
    "tags": []
   },
   "outputs": [
    {
     "name": "stdout",
     "output_type": "stream",
     "text": [
      "2024-12-12 21:42:58,423 INFO: Initializing external client\n",
      "2024-12-12 21:42:58,425 INFO: Base URL: https://c.app.hopsworks.ai:443\n",
      "2024-12-12 21:42:59,600 INFO: Python Engine initialized.\n",
      "\n",
      "Logged in to project, explore it here https://c.app.hopsworks.ai:443/p/1163414\n",
      "Finished: Reading data from Hopsworks, using Hopsworks Feature Query Service (1.25s) \n",
      "                       pubdate  \\\n",
      "2949 2023-12-01 00:00:00+00:00   \n",
      "8838 2023-12-01 00:00:00+00:00   \n",
      "1247 2023-12-01 00:00:00+00:00   \n",
      "2108 2023-12-01 00:00:00+00:00   \n",
      "5064 2023-12-01 00:00:00+00:00   \n",
      "\n",
      "                                                  title  \n",
      "2949  Danny Macklin: Police find ex-AFC Wimbledon ch...  \n",
      "8838  Gaza's fear and anger as ceasefire ends and fi...  \n",
      "1247  COP28: 'The Earth does not belong to us' - Kin...  \n",
      "2108  Belgium 1-1 Scotland: Visitors relegated to Na...  \n",
      "5064  Premiership: Harlequins 36-3 Sale - Marcus Smi...  \n",
      "                        pubdate  \\\n",
      "14702 2024-12-03 00:00:00+00:00   \n",
      "14703 2024-12-03 00:00:00+00:00   \n",
      "14704 2024-12-03 00:00:00+00:00   \n",
      "14705 2024-12-03 00:00:00+00:00   \n",
      "14707 2024-12-03 00:00:00+00:00   \n",
      "\n",
      "                                                   title  \n",
      "14702  Premier League: Leicester 3-0 up against West ...  \n",
      "14703  Was Daniel Penny 'reckless'? Jurors to decide ...  \n",
      "14704  Why South Korea's president suddenly declared ...  \n",
      "14705  Killer in femicide that shocked Italy sentence...  \n",
      "14707  Afghan women 'banned from midwife courses' in ...  \n"
     ]
    }
   ],
   "source": [
    "project = hopsworks.login(api_key_value=\"wOWQmzzHeITT5wlJ.FkOButuQ3XpDXSUO1LnTuaNfD7SPWolfF1hateoistsLFFsBF7upULn5z6qKPOIB\")\n",
    "fs = project.get_feature_store() \n",
    "headline_fg = fs.get_feature_group(\n",
    "    name='headlines_new', \n",
    "    version=1,\n",
    ")\n",
    "headline_df = headline_fg.read()\n",
    "headline_df = headline_df.sort_values(by='pubdate')\n",
    "\n",
    "print(headline_df.head())\n",
    "print(headline_df.tail())"
   ]
  },
  {
   "cell_type": "code",
   "execution_count": 3,
   "id": "131f3534-09b1-490f-ae3b-c39118a40adf",
   "metadata": {
    "tags": []
   },
   "outputs": [],
   "source": [
    "def df_between_dates(df, start_date, end_date):\n",
    "    return df[(df['pubdate'] >= start_date) & (df['pubdate'] <= end_date)]\n",
    "\n",
    "now = datetime.now()\n",
    "past_year = now + relativedelta(years=-1)\n",
    "#df_week = df_between_dates(headline_df, '2024-11-01', '2024-12-3')\n",
    "dfs = {}\n",
    "dfs['year'] = df_between_dates(headline_df, past_year.strftime(\"%Y-%m-%d\"), now.strftime(\"%Y-%m-%d\"))"
   ]
  },
  {
   "cell_type": "code",
   "execution_count": 4,
   "id": "e9242d12-574a-40ad-b66b-f3843ff21e4e",
   "metadata": {
    "tags": []
   },
   "outputs": [
    {
     "name": "stdout",
     "output_type": "stream",
     "text": [
      "2024-12-12 21:43:24,182 INFO: Use pytorch device_name: cpu\n",
      "2024-12-12 21:43:24,183 INFO: Load pretrained SentenceTransformer: all-MiniLM-L6-v2\n"
     ]
    }
   ],
   "source": [
    "emb_model = SentenceTransformer('all-MiniLM-L6-v2')"
   ]
  },
  {
   "cell_type": "code",
   "execution_count": 5,
   "id": "5d96de21-84c7-4d8a-b50c-9bc78d7c15ef",
   "metadata": {
    "tags": []
   },
   "outputs": [
    {
     "data": {
      "application/vnd.jupyter.widget-view+json": {
       "model_id": "d93efc9231784ed491276c08f9dc6e96",
       "version_major": 2,
       "version_minor": 0
      },
      "text/plain": [
       "Batches:   0%|          | 0/445 [00:00<?, ?it/s]"
      ]
     },
     "metadata": {},
     "output_type": "display_data"
    }
   ],
   "source": [
    "#headlines = headline_df['title'][13000:13500].tolist()\n",
    "headlines = {}\n",
    "embeddings = {}\n",
    "for key in dfs.keys():\n",
    "    headlines[key]= dfs[key]['title'].tolist()\n",
    "    embeddings[key] = emb_model.encode(headlines[key])"
   ]
  },
  {
   "cell_type": "code",
   "execution_count": 6,
   "id": "b5cd40d4-1da2-4b99-b3e1-c8500f91765c",
   "metadata": {
    "tags": []
   },
   "outputs": [],
   "source": [
    "def training(embeddings, headlines, n_clusters=3):\n",
    "    kmeans = KMeans(n_clusters=n_clusters, random_state=22)\n",
    "    clusters = kmeans.fit(embeddings) # 1, 2 or 3... for each headline\n",
    "    pca = PCA(n_components=2)\n",
    "    pca.fit(embeddings)\n",
    "    return kmeans, pca\n",
    "n_clusters=5\n",
    "kmeans,pca = training(embeddings['year'], headlines['year'], n_clusters)"
   ]
  },
  {
   "cell_type": "code",
   "execution_count": 7,
   "id": "a4a11873-a311-4191-be94-3217092f6544",
   "metadata": {
    "tags": []
   },
   "outputs": [
    {
     "data": {
      "application/vnd.jupyter.widget-view+json": {
       "model_id": "4c57eeed098842869a5afed9dbaeb292",
       "version_major": 2,
       "version_minor": 0
      },
      "text/plain": [
       "Batches:   0%|          | 0/1 [00:00<?, ?it/s]"
      ]
     },
     "metadata": {},
     "output_type": "display_data"
    },
    {
     "name": "stdout",
     "output_type": "stream",
     "text": [
      "[4 2]\n"
     ]
    }
   ],
   "source": [
    "emb =  emb_model.encode(['police', 'Trump'])\n",
    "clusters = kmeans.predict(emb)\n",
    "print(clusters)"
   ]
  },
  {
   "cell_type": "code",
   "execution_count": 8,
   "id": "0bc9d1df-261f-444b-8a1a-ab4ac260e35d",
   "metadata": {},
   "outputs": [],
   "source": [
    "import pickle\n",
    "with open(\"pca_model.pkl\", \"wb\") as pca_file:\n",
    "    pickle.dump(pca, pca_file)\n",
    "\n",
    "with open(\"kmeans_model.pkl\", \"wb\") as kmeans_file:\n",
    "    pickle.dump(kmeans, kmeans_file)"
   ]
  },
  {
   "cell_type": "code",
   "execution_count": 9,
   "id": "fa100f59-7a1d-4470-9a28-bcaa9916a91b",
   "metadata": {
    "tags": []
   },
   "outputs": [
    {
     "data": {
      "application/vnd.jupyter.widget-view+json": {
       "model_id": "a957f4549bc44c7e93e0398a42da53f6",
       "version_major": 2,
       "version_minor": 0
      },
      "text/plain": [
       "  0%|          | 0/6 [00:00<?, ?it/s]"
      ]
     },
     "metadata": {},
     "output_type": "display_data"
    },
    {
     "data": {
      "application/vnd.jupyter.widget-view+json": {
       "model_id": "dd5c89c50f66432d828b12172392962a",
       "version_major": 2,
       "version_minor": 0
      },
      "text/plain": [
       "Uploading: 0.000%|          | 0/5360 elapsed<00:00 remaining<?"
      ]
     },
     "metadata": {},
     "output_type": "display_data"
    },
    {
     "name": "stdout",
     "output_type": "stream",
     "text": [
      "Model created, explore it at https://c.app.hopsworks.ai:443/p/1163414/models/PCA_Model/2\n"
     ]
    },
    {
     "data": {
      "application/vnd.jupyter.widget-view+json": {
       "model_id": "3c3db92a162949f988c3cd754ff09a2a",
       "version_major": 2,
       "version_minor": 0
      },
      "text/plain": [
       "  0%|          | 0/6 [00:00<?, ?it/s]"
      ]
     },
     "metadata": {},
     "output_type": "display_data"
    },
    {
     "data": {
      "application/vnd.jupyter.widget-view+json": {
       "model_id": "29dffa5a7f4343f2a381ef819831fca6",
       "version_major": 2,
       "version_minor": 0
      },
      "text/plain": [
       "Uploading: 0.000%|          | 0/65205 elapsed<00:00 remaining<?"
      ]
     },
     "metadata": {},
     "output_type": "display_data"
    },
    {
     "name": "stdout",
     "output_type": "stream",
     "text": [
      "Model created, explore it at https://c.app.hopsworks.ai:443/p/1163414/models/KMeans_Model/2\n"
     ]
    },
    {
     "data": {
      "text/plain": [
       "Model(name: 'KMeans_Model', version: 2)"
      ]
     },
     "execution_count": 9,
     "metadata": {},
     "output_type": "execute_result"
    }
   ],
   "source": [
    "mr = project.get_model_registry()\n",
    "\n",
    "pca_model = mr.python.create_model(\n",
    "    name=\"PCA_Model\",\n",
    "    description=\"PCA model for dimensionality reduction\"\n",
    ")\n",
    "kmeans_model = mr.python.create_model(\n",
    "    name=\"KMeans_Model\",\n",
    "    description=\"KMeans clustering model\"\n",
    ")\n",
    "pca_model.save('pca_model.pkl')\n",
    "kmeans_model.save('kmeans_model.pkl')"
   ]
  },
  {
   "cell_type": "markdown",
   "id": "e3f5fa55-0c6f-46c1-aea4-bbe3a8b98e87",
   "metadata": {},
   "source": [
    "Now write headlines and embeddings to a dataframe for fast acess"
   ]
  },
  {
   "cell_type": "code",
   "execution_count": 13,
   "id": "c34736b6-d71b-4be6-9c87-6154b0456355",
   "metadata": {
    "tags": []
   },
   "outputs": [
    {
     "name": "stdout",
     "output_type": "stream",
     "text": [
      "(14220, 384)\n",
      "14220\n"
     ]
    }
   ],
   "source": [
    "print(embeddings['year'].shape)\n",
    "print(len(headlines['year']))"
   ]
  },
  {
   "cell_type": "code",
   "execution_count": 14,
   "id": "8917891a-8fc9-4869-832e-057b45be94ac",
   "metadata": {
    "tags": []
   },
   "outputs": [
    {
     "name": "stdout",
     "output_type": "stream",
     "text": [
      "Feature Group created successfully, explore it at \n",
      "https://c.app.hopsworks.ai:443/p/1163414/fs/1154117/fg/1385877\n"
     ]
    },
    {
     "name": "stderr",
     "output_type": "stream",
     "text": [
      "Uploading Dataframe: 100.00% |██████████| Rows 14220/14220 | Elapsed Time: 01:35 | Remaining Time: 00:00\n"
     ]
    },
    {
     "name": "stdout",
     "output_type": "stream",
     "text": [
      "Launching job: high_dimensional_vectors_2_offline_fg_materialization\n",
      "Job started successfully, you can follow the progress at \n",
      "https://c.app.hopsworks.ai:443/p/1163414/jobs/named/high_dimensional_vectors_2_offline_fg_materialization/executions\n",
      "2024-12-12 21:53:51,418 INFO: Waiting for execution to finish. Current state: SUBMITTED. Final status: UNDEFINED\n",
      "2024-12-12 21:53:54,549 INFO: Waiting for execution to finish. Current state: RUNNING. Final status: UNDEFINED\n",
      "2024-12-12 22:04:42,423 INFO: Waiting for log aggregation to finish.\n",
      "2024-12-12 22:05:10,360 INFO: Execution finished successfully.\n",
      "384-dimensional vectors successfully written to Hopsworks Feature Store.\n"
     ]
    }
   ],
   "source": [
    "import pandas as pd\n",
    "df = pd.DataFrame(embeddings['year'], columns=[f\"dim_{i}\" for i in range(384)])\n",
    "df[\"headlines\"] = headlines['year']\n",
    "feature_group = fs.get_or_create_feature_group(\n",
    "    name=\"high_dimensional_vectors\",\n",
    "    version=2,\n",
    "    description=\"Feature group for 384-dimensional vectors\",\n",
    "    primary_key=[\"headlines\"], \n",
    "    online_enabled=True \n",
    ")\n",
    "feature_group.insert(df, write_options={\"wait_for_job\": True})\n",
    "\n",
    "print(\"384-dimensional vectors successfully written to Hopsworks Feature Store.\")"
   ]
  },
  {
   "cell_type": "code",
   "execution_count": 16,
   "id": "e1bf09c4-c338-4396-8666-63571168a091",
   "metadata": {
    "tags": []
   },
   "outputs": [
    {
     "name": "stdout",
     "output_type": "stream",
     "text": [
      "20.8302001953125\n",
      "0.10854339599609375\n"
     ]
    }
   ],
   "source": [
    "#size mb, vectors 100 times larger\n",
    "import sys\n",
    "print(sys.getsizeof(embeddings['year'])/ (1024**2))\n",
    "print(sys.getsizeof(headlines['year'])/ (1024**2))"
   ]
  },
  {
   "cell_type": "code",
   "execution_count": null,
   "id": "83a3cf6e-4c46-425f-b18a-29cb8de918f0",
   "metadata": {},
   "outputs": [],
   "source": []
  }
 ],
 "metadata": {
  "environment": {
   "kernel": "conda-base-py",
   "name": "workbench-notebooks.m126",
   "type": "gcloud",
   "uri": "us-docker.pkg.dev/deeplearning-platform-release/gcr.io/workbench-notebooks:m126"
  },
  "kernelspec": {
   "display_name": "Python 3 (ipykernel) (Local)",
   "language": "python",
   "name": "conda-base-py"
  },
  "language_info": {
   "codemirror_mode": {
    "name": "ipython",
    "version": 3
   },
   "file_extension": ".py",
   "mimetype": "text/x-python",
   "name": "python",
   "nbconvert_exporter": "python",
   "pygments_lexer": "ipython3",
   "version": "3.10.15"
  }
 },
 "nbformat": 4,
 "nbformat_minor": 5
}
