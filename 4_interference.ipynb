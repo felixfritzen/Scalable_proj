{
 "cells": [
  {
   "cell_type": "code",
   "execution_count": 3,
   "id": "62cdaf03-c9be-4cc1-bdfd-833b4aa3dda3",
   "metadata": {
    "tags": []
   },
   "outputs": [],
   "source": [
    "import pickle\n",
    "import hopsworks"
   ]
  },
  {
   "cell_type": "code",
   "execution_count": 6,
   "id": "d888fb0f-4578-40e8-b074-2eb7fbcd7dff",
   "metadata": {
    "tags": []
   },
   "outputs": [
    {
     "name": "stdout",
     "output_type": "stream",
     "text": [
      "2024-12-03 22:20:49,370 INFO: Closing external client and cleaning up certificates.\n",
      "Connection closed.\n",
      "2024-12-03 22:20:49,379 INFO: Initializing external client\n",
      "2024-12-03 22:20:49,380 INFO: Base URL: https://c.app.hopsworks.ai:443\n",
      "2024-12-03 22:20:50,527 INFO: Python Engine initialized.\n",
      "\n",
      "Logged in to project, explore it here https://c.app.hopsworks.ai:443/p/1163414\n",
      "Model downloaded to: /var/tmp/79e61a86-f766-4b93-8ba1-996c01edff52/PCA_Model/1\n",
      "Model downloaded to: /var/tmp/647cacee-69ef-4b90-9850-9e58c0706e8a/KMeans_Model/1\n"
     ]
    }
   ],
   "source": [
    "project = hopsworks.login(api_key_value=\"wOWQmzzHeITT5wlJ.FkOButuQ3XpDXSUO1LnTuaNfD7SPWolfF1hateoistsLFFsBF7upULn5z6qKPOIB\")\n",
    "fs = project.get_feature_store() \n",
    "headline_fg = fs.get_feature_group(\n",
    "    name='headlines_new', \n",
    "    version=1,\n",
    ")\n",
    "mr = project.get_model_registry()\n",
    "\n",
    "model = mr.get_model(\"PCA_Model\", version=1)\n",
    "model_dir = model.download()\n",
    "print(f\"Model downloaded to: {model_dir}\")\n",
    "with open(f\"{model_dir}/pca_model.pkl\", \"rb\") as f:\n",
    "    pca_model = pickle.load(f)\n",
    "    \n",
    "model = mr.get_model(\"KMeans_Model\", version=1)\n",
    "model_dir = model.download()\n",
    "print(f\"Model downloaded to: {model_dir}\")\n",
    "with open(f\"{model_dir}/kmeans_model.pkl\", \"rb\") as f:\n",
    "    kmeans_model = pickle.load(f)"
   ]
  },
  {
   "cell_type": "code",
   "execution_count": 9,
   "id": "5e39fae2-3629-41d2-b3e2-f13f80cbab2e",
   "metadata": {
    "tags": []
   },
   "outputs": [
    {
     "name": "stdout",
     "output_type": "stream",
     "text": [
      "PCA(n_components=2) KMeans(n_clusters=4, random_state=22)\n",
      "2024-12-03 22:24:15,981 INFO: Use pytorch device_name: cpu\n",
      "2024-12-03 22:24:15,985 INFO: Load pretrained SentenceTransformer: all-MiniLM-L6-v2\n"
     ]
    }
   ],
   "source": [
    "print(pca_model, kmeans_model)\n",
    "\n",
    "from sentence_transformers import SentenceTransformer\n",
    "model = SentenceTransformer('all-MiniLM-L6-v2')\n"
   ]
  },
  {
   "cell_type": "code",
   "execution_count": 53,
   "id": "ad925530-f119-4ca4-8b08-af5755fa8f10",
   "metadata": {
    "tags": []
   },
   "outputs": [
    {
     "data": {
      "application/vnd.jupyter.widget-view+json": {
       "model_id": "e073d32189f34ba780bea26cf752345b",
       "version_major": 2,
       "version_minor": 0
      },
      "text/plain": [
       "Batches:   0%|          | 0/1 [00:00<?, ?it/s]"
      ]
     },
     "metadata": {},
     "output_type": "display_data"
    },
    {
     "name": "stdout",
     "output_type": "stream",
     "text": [
      "[-0.06804226  0.08991811  0.00630171 -0.0520573  -0.00493738 -0.02730278\n",
      "  0.06904142 -0.02350643 -0.02551715  0.03519316] 2\n"
     ]
    }
   ],
   "source": [
    "emb =  model.encode([' Was Daniel Penny reckless? Jurors to decid', 'this'])\n",
    "print(emb[0,0:10], len(emb))"
   ]
  },
  {
   "cell_type": "code",
   "execution_count": 54,
   "id": "dd8ed82d-442f-4737-891d-227b3ec3c26c",
   "metadata": {
    "tags": []
   },
   "outputs": [
    {
     "name": "stdout",
     "output_type": "stream",
     "text": [
      "[3 2] [[-0.11867069 -0.2128431 ]\n",
      " [ 0.04452433  0.03275317]]\n"
     ]
    }
   ],
   "source": [
    "import numpy as np\n",
    "clusters = kmeans_model.predict(emb)\n",
    "\n",
    "embeddings_2d =pca_model.transform(emb)\n",
    "print(preds, dims)"
   ]
  },
  {
   "cell_type": "code",
   "execution_count": 55,
   "id": "3b15b906-2ce2-4071-90f4-7e89b5d5c069",
   "metadata": {
    "tags": []
   },
   "outputs": [
    {
     "data": {
      "image/png": "[encoded data removed]",
      "text/plain": [
       "<Figure size 640x480 with 1 Axes>"
      ]
     },
     "metadata": {},
     "output_type": "display_data"
    }
   ],
   "source": [
    "import matplotlib.pyplot as plt\n",
    "for cluster in range(4):\n",
    "    cluster_points = embeddings_2d[clusters == cluster]\n",
    "    plt.scatter(\n",
    "        cluster_points[:, 0], cluster_points[:, 1],\n",
    "        label=f\"Cluster {1}\", alpha=0.7, edgecolors='k'\n",
    "    )\n"
   ]
  },
  {
   "cell_type": "code",
   "execution_count": 70,
   "id": "96787c85-761b-400a-97d5-8172d256485e",
   "metadata": {
    "tags": []
   },
   "outputs": [
    {
     "name": "stdout",
     "output_type": "stream",
     "text": [
      "2024-12-03 23:10:58,908 INFO: Closing external client and cleaning up certificates.\n",
      "Connection closed.\n",
      "2024-12-03 23:10:58,917 INFO: Initializing external client\n",
      "2024-12-03 23:10:58,918 INFO: Base URL: https://c.app.hopsworks.ai:443\n",
      "2024-12-03 23:10:59,981 INFO: Python Engine initialized.\n",
      "\n",
      "Logged in to project, explore it here https://c.app.hopsworks.ai:443/p/1163414\n",
      "Finished: Reading data from Hopsworks, using Hopsworks Feature Query Service (1.19s) \n"
     ]
    }
   ],
   "source": [
    "project = hopsworks.login(api_key_value=\"wOWQmzzHeITT5wlJ.FkOButuQ3XpDXSUO1LnTuaNfD7SPWolfF1hateoistsLFFsBF7upULn5z6qKPOIB\")\n",
    "fs = project.get_feature_store() \n",
    "headline_fg = fs.get_feature_group(\n",
    "    name='headlines_new', \n",
    "    version=1,\n",
    ")\n",
    "headline_df = headline_fg.read()\n",
    "headline_df = headline_df.sort_values(by='pubdate')"
   ]
  },
  {
   "cell_type": "code",
   "execution_count": 81,
   "id": "97f09a23-ac9b-4cfc-bf6e-42387f66e57a",
   "metadata": {
    "tags": []
   },
   "outputs": [
    {
     "name": "stdout",
     "output_type": "stream",
     "text": [
      "                        pubdate  \\\n",
      "14702 2024-12-03 00:00:00+00:00   \n",
      "14703 2024-12-03 00:00:00+00:00   \n",
      "14704 2024-12-03 00:00:00+00:00   \n",
      "14705 2024-12-03 00:00:00+00:00   \n",
      "14707 2024-12-03 00:00:00+00:00   \n",
      "\n",
      "                                                   title  \n",
      "14702  Premier League: Leicester 3-0 up against West ...  \n",
      "14703  Was Daniel Penny 'reckless'? Jurors to decide ...  \n",
      "14704  Why South Korea's president suddenly declared ...  \n",
      "14705  Killer in femicide that shocked Italy sentence...  \n",
      "14707  Afghan women 'banned from midwife courses' in ...  \n",
      "                        pubdate  \\\n",
      "14702 2024-12-03 00:00:00+00:00   \n",
      "14703 2024-12-03 00:00:00+00:00   \n",
      "14704 2024-12-03 00:00:00+00:00   \n",
      "14705 2024-12-03 00:00:00+00:00   \n",
      "14707 2024-12-03 00:00:00+00:00   \n",
      "\n",
      "                                                   title  \n",
      "14702  Premier League: Leicester 3-0 up against West ...  \n",
      "14703  Was Daniel Penny 'reckless'? Jurors to decide ...  \n",
      "14704  Why South Korea's president suddenly declared ...  \n",
      "14705  Killer in femicide that shocked Italy sentence...  \n",
      "14707  Afghan women 'banned from midwife courses' in ...  \n"
     ]
    }
   ],
   "source": [
    "def df_between_dates(df, start_date, end_date):\n",
    "    return df[(df['pubdate'] >= start_date) & (df['pubdate'] <= end_date)]\n",
    "from datetime import datetime, timedelta\n",
    "from dateutil.relativedelta import relativedelta\n",
    "now = datetime.now()\n",
    "past_week = now + timedelta(weeks=-1)\n",
    "df_week = df_between_dates(headline_df, past_week.strftime(\"%Y-%m-%d\"), now.strftime(\"%Y-%m-%d\"))"
   ]
  },
  {
   "cell_type": "code",
   "execution_count": 111,
   "id": "160ed54e-eb09-478a-89ad-74350af24431",
   "metadata": {
    "tags": []
   },
   "outputs": [],
   "source": [
    "def get_most_similar_headlines(query_embedding, embeddings, headlines, top_n=5):\n",
    "    print('compute similarities')\n",
    "    similarities = cosine_similarity(query_embedding, embeddings)[0]\n",
    "    top_indices = np.argsort(-similarities)[:top_n]\n",
    "    return [(headlines[i], similarities[i]) for i in top_indices]\n",
    "\n",
    "def compare(encoded_headlines, query):\n",
    "    most_similar = get_most_similar_headlines(model.encode([query]), encoded_headlines, headlines, top_n=5)\n",
    "    print(f\"Query: {query}\")\n",
    "    print(\"Most Similar Headlines:\")\n",
    "    for i, (headline, similarity) in enumerate(most_similar, 1):\n",
    "        print(f\"{i}. {headline} (Similarity: {similarity:.4f})\")"
   ]
  },
  {
   "cell_type": "code",
   "execution_count": 98,
   "id": "3f62996d-b60a-4114-b8bc-9408445bc6b4",
   "metadata": {
    "tags": []
   },
   "outputs": [
    {
     "data": {
      "application/vnd.jupyter.widget-view+json": {
       "model_id": "663980e1fc404d5f8431a84ac977ebc7",
       "version_major": 2,
       "version_minor": 0
      },
      "text/plain": [
       "Batches:   0%|          | 0/460 [00:00<?, ?it/s]"
      ]
     },
     "metadata": {},
     "output_type": "display_data"
    }
   ],
   "source": [
    "encoded_headlines = model.encode(headline_df['title'].to_list())\n",
    "#load this from hopsworks?"
   ]
  },
  {
   "cell_type": "code",
   "execution_count": 114,
   "id": "126e3911-d6b1-4a19-a897-e56eca35ffe8",
   "metadata": {
    "tags": []
   },
   "outputs": [
    {
     "data": {
      "application/vnd.jupyter.widget-view+json": {
       "model_id": "c7cfb5d9ff40442fb599f9f4d118db34",
       "version_major": 2,
       "version_minor": 0
      },
      "text/plain": [
       "Batches:   0%|          | 0/1 [00:00<?, ?it/s]"
      ]
     },
     "metadata": {},
     "output_type": "display_data"
    },
    {
     "name": "stdout",
     "output_type": "stream",
     "text": [
      "compute similarities\n",
      "Query: who will win election\n",
      "Most Similar Headlines:\n",
      "1. 14 days until the election... Who's winning? (Similarity: 0.7113)\n",
      "2. General election: When is the next one and who decides? (Similarity: 0.6463)\n",
      "3. Who can I vote for in the general election? (Similarity: 0.6423)\n",
      "4. Local elections 2024: Who can I vote for? (Similarity: 0.6363)\n",
      "5. When is the next general election? (Similarity: 0.6083)\n"
     ]
    }
   ],
   "source": [
    "# TODO do this only for the ones in the k mean cluster, Mad fast anyway\n",
    "compare(encoded_headlines, \"who will win election\")"
   ]
  },
  {
   "cell_type": "code",
   "execution_count": 115,
   "id": "fee64f97-395a-4e64-85a2-5c36acdc41b6",
   "metadata": {
    "tags": []
   },
   "outputs": [
    {
     "name": "stdout",
     "output_type": "stream",
     "text": [
      "14708\n",
      "(14708, 384)\n"
     ]
    }
   ],
   "source": [
    "print(len(headline_df))\n",
    "print(encoded_headlines.shape)"
   ]
  },
  {
   "cell_type": "code",
   "execution_count": 103,
   "id": "8c99b084-0af1-4ce2-b976-15f8781445bf",
   "metadata": {
    "tags": []
   },
   "outputs": [],
   "source": [
    "import sys"
   ]
  },
  {
   "cell_type": "code",
   "execution_count": 106,
   "id": "41cf7da7-0b0d-485e-8678-c3fe46c770f3",
   "metadata": {
    "tags": []
   },
   "outputs": [
    {
     "name": "stdout",
     "output_type": "stream",
     "text": [
      "1.8910598754882812\n",
      "21.5450439453125\n"
     ]
    }
   ],
   "source": [
    "#size mb\n",
    "print(sys.getsizeof(headline_df)/ (1024**2))\n",
    "print(sys.getsizeof(encoded_headlines)/ (1024**2))"
   ]
  },
  {
   "cell_type": "code",
   "execution_count": 118,
   "id": "cd6c3d79-342f-475f-911d-fe43f57b151b",
   "metadata": {
    "tags": []
   },
   "outputs": [
    {
     "name": "stdout",
     "output_type": "stream",
     "text": [
      "Feature Group created successfully, explore it at \n",
      "https://c.app.hopsworks.ai:443/p/1163414/fs/1154117/fg/1378788\n"
     ]
    },
    {
     "name": "stderr",
     "output_type": "stream",
     "text": [
      "Uploading Dataframe: 100.00% |██████████| Rows 14708/14708 | Elapsed Time: 01:32 | Remaining Time: 00:00\n"
     ]
    },
    {
     "name": "stdout",
     "output_type": "stream",
     "text": [
      "Launching job: high_dimensional_vectors_1_offline_fg_materialization\n",
      "Job started successfully, you can follow the progress at \n",
      "https://c.app.hopsworks.ai:443/p/1163414/jobs/named/high_dimensional_vectors_1_offline_fg_materialization/executions\n",
      "2024-12-04 00:06:27,335 INFO: Waiting for execution to finish. Current state: SUBMITTED. Final status: UNDEFINED\n",
      "2024-12-04 00:06:33,626 INFO: Waiting for execution to finish. Current state: RUNNING. Final status: UNDEFINED\n",
      "2024-12-04 00:10:41,499 INFO: Waiting for execution to finish. Current state: AGGREGATING_LOGS. Final status: SUCCEEDED\n",
      "2024-12-04 00:10:41,631 INFO: Waiting for log aggregation to finish.\n",
      "2024-12-04 00:10:50,125 INFO: Execution finished successfully.\n",
      "240-dimensional vectors successfully written to Hopsworks Feature Store.\n"
     ]
    }
   ],
   "source": [
    "import pandas as pd\n",
    "column_names = [f\"dim_{i}\" for i in range(384)]\n",
    "df = pd.DataFrame(encoded_headlines, columns=column_names)\n",
    "\n",
    "df[\"id\"] = range(len(df))\n",
    "feature_group = fs.get_or_create_feature_group(\n",
    "    name=\"high_dimensional_vectors\",\n",
    "    version=1,\n",
    "    description=\"Feature group for 384-dimensional vectors\",\n",
    "    primary_key=[\"id\"], \n",
    "    online_enabled=True \n",
    ")\n",
    "feature_group.insert(df, write_options={\"wait_for_job\": True})\n",
    "\n",
    "print(\"240-dimensional vectors successfully written to Hopsworks Feature Store.\")"
   ]
  },
  {
   "cell_type": "code",
   "execution_count": 130,
   "id": "4250b071-fb2a-47d3-b56f-13e01826dab9",
   "metadata": {
    "tags": []
   },
   "outputs": [
    {
     "name": "stdout",
     "output_type": "stream",
     "text": [
      "Finished: Reading data from Hopsworks, using Hopsworks Feature Query Service (2.79s) \n",
      "(14708, 240)\n"
     ]
    }
   ],
   "source": [
    "fg_vectors = fs.get_feature_group(\n",
    "    name='high_dimensional_vectors', \n",
    "    version=1,\n",
    ")\n",
    "retrieved_data = fg_vectors.read()\n",
    "vector_columns = [f\"dim_{i}\" for i in range(240)]\n",
    "vectors = retrieved_data[vector_columns].to_numpy()\n",
    "print(vectors.shape)"
   ]
  },
  {
   "cell_type": "code",
   "execution_count": null,
   "id": "e33f44b0-2f49-4556-90c9-f4fa8e1c2cc7",
   "metadata": {},
   "outputs": [],
   "source": []
  }
 ],
 "metadata": {
  "environment": {
   "kernel": "conda-base-py",
   "name": "workbench-notebooks.m126",
   "type": "gcloud",
   "uri": "us-docker.pkg.dev/deeplearning-platform-release/gcr.io/workbench-notebooks:m126"
  },
  "kernelspec": {
   "display_name": "Python 3 (ipykernel) (Local)",
   "language": "python",
   "name": "conda-base-py"
  },
  "language_info": {
   "codemirror_mode": {
    "name": "ipython",
    "version": 3
   },
   "file_extension": ".py",
   "mimetype": "text/x-python",
   "name": "python",
   "nbconvert_exporter": "python",
   "pygments_lexer": "ipython3",
   "version": "3.10.15"
  }
 },
 "nbformat": 4,
 "nbformat_minor": 5
}
